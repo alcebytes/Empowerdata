{
  "nbformat": 4,
  "nbformat_minor": 0,
  "metadata": {
    "colab": {
      "provenance": [],
      "cell_execution_strategy": "setup",
      "authorship_tag": "ABX9TyOokNAy5F3wurMJzMlT3IcR",
      "include_colab_link": true
    },
    "kernelspec": {
      "name": "python3",
      "display_name": "Python 3"
    },
    "language_info": {
      "name": "python"
    }
  },
  "cells": [
    {
      "cell_type": "markdown",
      "metadata": {
        "id": "view-in-github",
        "colab_type": "text"
      },
      "source": [
        "<a href=\"https://colab.research.google.com/github/alcebytes/Empowerdata/blob/main/BusinessCase.ipynb\" target=\"_parent\"><img src=\"https://colab.research.google.com/assets/colab-badge.svg\" alt=\"Open In Colab\"/></a>"
      ]
    },
    {
      "cell_type": "markdown",
      "source": [
        "#**PRIMEIROS PASSOS:**"
      ],
      "metadata": {
        "id": "q9IA9hSo3RYu"
      }
    },
    {
      "cell_type": "markdown",
      "source": [
        "#Instalar as bibliotecas"
      ],
      "metadata": {
        "id": "_Q2cxaLejywM"
      }
    },
    {
      "cell_type": "code",
      "source": [
        "!pip install pdf_reports --quiet\n",
        "print(\"Instalação Concluída!!!\")"
      ],
      "metadata": {
        "colab": {
          "base_uri": "https://localhost:8080/"
        },
        "id": "UyrLlY9V43Qs",
        "outputId": "dc5caff6-e6e6-4c62-e698-688a2f60f0de"
      },
      "execution_count": null,
      "outputs": [
        {
          "output_type": "stream",
          "name": "stdout",
          "text": [
            "Instalação Concluída!!!\n"
          ]
        }
      ]
    },
    {
      "cell_type": "markdown",
      "source": [
        "#Baixar o arquivo base \"template.pug\""
      ],
      "metadata": {
        "id": "P6va86Qxju8y"
      }
    },
    {
      "cell_type": "code",
      "source": [
        "import requests\n",
        "\n",
        "# Caminho do arquivo\n",
        "url = \"https://raw.githubusercontent.com/alcebytes/Empowerdata/main/template.pug\"\n",
        "response = requests.get(url)\n",
        "\n",
        "# Verificar se a solicitação foi bem-sucedida (código de status 200)\n",
        "if response.status_code == 200:\n",
        "    # Salvar o conteúdo do arquivo\n",
        "    with open(\"template.pug\", 'wb') as file:\n",
        "        file.write(response.content)\n",
        "    print(\"Download concluído com sucesso.\")\n",
        "else:\n",
        "    print(\"Erro ao baixar o arquivo. Código de status:\", response.status_code)\n"
      ],
      "metadata": {
        "id": "vv4LTy8y3N1H",
        "colab": {
          "base_uri": "https://localhost:8080/"
        },
        "outputId": "f2f8bf98-64a0-4806-ddb1-9ad831fd3bfa"
      },
      "execution_count": null,
      "outputs": [
        {
          "output_type": "stream",
          "name": "stdout",
          "text": [
            "Download concluído com sucesso.\n"
          ]
        }
      ]
    },
    {
      "cell_type": "markdown",
      "source": [
        "#**ENTRADA DE DADOS**"
      ],
      "metadata": {
        "id": "SGhMloDe9Mn2"
      }
    },
    {
      "cell_type": "code",
      "execution_count": null,
      "metadata": {
        "colab": {
          "base_uri": "https://localhost:8080/"
        },
        "id": "ims35sHg84Vm",
        "outputId": "b8d3fd66-f232-4bee-be3e-4a2eac3f3d70"
      },
      "outputs": [
        {
          "name": "stdout",
          "output_type": "stream",
          "text": [
            "Digite o nome do(a) aluno(a): JUNIORES \n",
            "Digite a idade do(a) aluno(a): 49\n",
            "Digite o peso do(a) aluno(a) (Ex: XX kg): 58\n",
            "Digite a altura do(a) aluno(a) (Ex: X.XX m): 1.77\n"
          ]
        }
      ],
      "source": [
        "nome = input('Digite o nome do(a) aluno(a): ')\n",
        "idade = int(input('Digite a idade do(a) aluno(a): '))\n",
        "peso = float(input('Digite o peso do(a) aluno(a) (Ex: XXX kg): '))\n",
        "altura = float(input('Digite a altura do(a) aluno(a) (Ex: X.XX m): '))"
      ]
    },
    {
      "cell_type": "markdown",
      "source": [
        "#CALCULANDO O IMC"
      ],
      "metadata": {
        "id": "ReyqufIP9RoI"
      }
    },
    {
      "cell_type": "code",
      "source": [
        "imc = peso / (altura**2)\n",
        "print(imc)"
      ],
      "metadata": {
        "colab": {
          "base_uri": "https://localhost:8080/"
        },
        "id": "e-e8a-ak9bch",
        "outputId": "52e5b2e4-ae82-4f1f-b32b-c33d31fa8e57"
      },
      "execution_count": null,
      "outputs": [
        {
          "output_type": "stream",
          "name": "stdout",
          "text": [
            "18.513198633853616\n"
          ]
        }
      ]
    },
    {
      "cell_type": "markdown",
      "source": [
        "#CRIANDO O STATUS"
      ],
      "metadata": {
        "id": "gjFCnQt79TiE"
      }
    },
    {
      "cell_type": "code",
      "source": [
        "if imc <= 18.4:\t    status = \"Magreza\"\n",
        "elif imc <= 24.9:   status = \"Normal\"\n",
        "else:               status = \"Sobrepeso\"\n",
        "\n",
        "print(f\"IMC: {imc:.2f}  -  classificação: {status.upper()}\")"
      ],
      "metadata": {
        "id": "xtzIMMT_9bvE",
        "colab": {
          "base_uri": "https://localhost:8080/"
        },
        "outputId": "2c2f571a-c2af-48e4-ea64-8a4a959a61a1"
      },
      "execution_count": null,
      "outputs": [
        {
          "output_type": "stream",
          "name": "stdout",
          "text": [
            "IMC: 18.51  -  classificação: NORMAL\n"
          ]
        }
      ]
    },
    {
      "cell_type": "markdown",
      "source": [
        "#GERANDO E BAIXANDO O PDF"
      ],
      "metadata": {
        "id": "TUAh8Zv09cy_"
      }
    },
    {
      "cell_type": "code",
      "source": [
        "dados_aluno = { \"nome\": nome,\n",
        "                \"idade\": idade,\n",
        "                \"peso\": peso,\n",
        "                \"altura\": altura,\n",
        "                \"imc\": f'{imc:.2f}',\n",
        "                \"status\": status }\n",
        "\n",
        "print(dados_aluno)"
      ],
      "metadata": {
        "id": "N5i9MGoiKU7e",
        "colab": {
          "base_uri": "https://localhost:8080/"
        },
        "outputId": "5af062f2-0cc2-4976-9acb-c48ff3cc1ea6"
      },
      "execution_count": null,
      "outputs": [
        {
          "output_type": "stream",
          "name": "stdout",
          "text": [
            "{'nome': 'JUNIORES ', 'idade': 49, 'peso': 58.0, 'altura': 1.77, 'imc': '18.51', 'status': 'Normal'}\n"
          ]
        }
      ]
    },
    {
      "cell_type": "code",
      "source": [
        "from pdf_reports import pug_to_html, write_report\n",
        "from google.colab import files\n",
        "\n",
        "\n",
        "template = pug_to_html(\"template.pug\", dados=dados_aluno)\n",
        "write_report(template, \"ficha_aluno.pdf\", use_default_styling=False)\n",
        "\n",
        "files.download(\"ficha_aluno.pdf\")\n",
        "print(\"Download Concluído!!!\")\n"
      ],
      "metadata": {
        "id": "vhYvIcciFMy2",
        "colab": {
          "base_uri": "https://localhost:8080/",
          "height": 35
        },
        "outputId": "738d061b-be2c-4771-c9a9-e38be2d6c812"
      },
      "execution_count": null,
      "outputs": [
        {
          "output_type": "display_data",
          "data": {
            "text/plain": [
              "<IPython.core.display.Javascript object>"
            ],
            "application/javascript": [
              "\n",
              "    async function download(id, filename, size) {\n",
              "      if (!google.colab.kernel.accessAllowed) {\n",
              "        return;\n",
              "      }\n",
              "      const div = document.createElement('div');\n",
              "      const label = document.createElement('label');\n",
              "      label.textContent = `Downloading \"${filename}\": `;\n",
              "      div.appendChild(label);\n",
              "      const progress = document.createElement('progress');\n",
              "      progress.max = size;\n",
              "      div.appendChild(progress);\n",
              "      document.body.appendChild(div);\n",
              "\n",
              "      const buffers = [];\n",
              "      let downloaded = 0;\n",
              "\n",
              "      const channel = await google.colab.kernel.comms.open(id);\n",
              "      // Send a message to notify the kernel that we're ready.\n",
              "      channel.send({})\n",
              "\n",
              "      for await (const message of channel.messages) {\n",
              "        // Send a message to notify the kernel that we're ready.\n",
              "        channel.send({})\n",
              "        if (message.buffers) {\n",
              "          for (const buffer of message.buffers) {\n",
              "            buffers.push(buffer);\n",
              "            downloaded += buffer.byteLength;\n",
              "            progress.value = downloaded;\n",
              "          }\n",
              "        }\n",
              "      }\n",
              "      const blob = new Blob(buffers, {type: 'application/binary'});\n",
              "      const a = document.createElement('a');\n",
              "      a.href = window.URL.createObjectURL(blob);\n",
              "      a.download = filename;\n",
              "      div.appendChild(a);\n",
              "      a.click();\n",
              "      div.remove();\n",
              "    }\n",
              "  "
            ]
          },
          "metadata": {}
        },
        {
          "output_type": "display_data",
          "data": {
            "text/plain": [
              "<IPython.core.display.Javascript object>"
            ],
            "application/javascript": [
              "download(\"download_2047d62f-7465-4de9-a8cf-cb6bbd8e0281\", \"ficha_aluno.pdf\", 19096)"
            ]
          },
          "metadata": {}
        },
        {
          "output_type": "stream",
          "name": "stdout",
          "text": [
            "Download Concluído!!!\n"
          ]
        }
      ]
    }
  ]
}