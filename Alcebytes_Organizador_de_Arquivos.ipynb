{
  "nbformat": 4,
  "nbformat_minor": 0,
  "metadata": {
    "colab": {
      "provenance": [],
      "authorship_tag": "ABX9TyNp9D/SrEVOvnkLun0RPeOG",
      "include_colab_link": true
    },
    "kernelspec": {
      "name": "python3",
      "display_name": "Python 3"
    },
    "language_info": {
      "name": "python"
    }
  },
  "cells": [
    {
      "cell_type": "markdown",
      "metadata": {
        "id": "view-in-github",
        "colab_type": "text"
      },
      "source": [
        "<a href=\"https://colab.research.google.com/github/alcebytes/Empowerdata/blob/main/Alcebytes_Organizador_de_Arquivos.ipynb\" target=\"_parent\"><img src=\"https://colab.research.google.com/assets/colab-badge.svg\" alt=\"Open In Colab\"/></a>"
      ]
    },
    {
      "cell_type": "code",
      "execution_count": null,
      "metadata": {
        "id": "nLKie68ZWhdy"
      },
      "outputs": [],
      "source": [
        "import os\n",
        "import shutil\n",
        "\n",
        "# Caminho da pasta Downloads\n",
        "downloads_path = os.path.expanduser(r'~\\Downloads')\n",
        "print(downloads_path)\n",
        "\n",
        "# Verifica se a pasta Downloads existe\n",
        "if not os.path.exists(downloads_path):\n",
        "    print(\"A pasta Downloads não foi encontrada.\")\n",
        "    exit()\n",
        "\n",
        "# Navega pelos arquivos na pasta Downloads\n",
        "for arquivo in os.listdir(downloads_path):\n",
        "    caminho_arquivo = os.path.join(downloads_path, arquivo)\n",
        "\n",
        "    # Verifica se o caminho é um arquivo\n",
        "    if os.path.isfile(caminho_arquivo):\n",
        "        # Obtém a extensão do arquivo\n",
        "        _, extensao = os.path.splitext(arquivo)\n",
        "\n",
        "        # Remove o ponto da extensão\n",
        "        extensao = extensao[1:]\n",
        "\n",
        "        # Cria a pasta da extensão, se não existir\n",
        "        pasta_extensao = os.path.join(downloads_path, extensao)\n",
        "        if not os.path.exists(pasta_extensao):\n",
        "            os.makedirs(pasta_extensao)\n",
        "\n",
        "        # Move o arquivo para a pasta da extensão\n",
        "        shutil.move(caminho_arquivo, os.path.join(pasta_extensao, arquivo))\n",
        "\n",
        "print(\"Organização concluída.\")\n"
      ]
    }
  ]
}